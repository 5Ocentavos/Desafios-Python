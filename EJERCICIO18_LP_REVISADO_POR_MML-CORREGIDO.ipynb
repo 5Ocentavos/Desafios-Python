{
 "cells": [
  {
   "cell_type": "markdown",
   "id": "14df4a10",
   "metadata": {},
   "source": [
    "# Actividad 1 por Python plus\n"
   ]
  },
  {
   "cell_type": "markdown",
   "id": "eb80dfd8",
   "metadata": {},
   "source": [
    "## Parte I\n",
    "\n",
    "### Solución propuesta por tu compañero/a\n"
   ]
  },
  {
   "cell_type": "markdown",
   "id": "b2c22533",
   "metadata": {},
   "source": [
    "### EJERCICIO 18: dado el archivo denominado Pokemon.csv que contiene datos sobre pokemones, se desea generar un archivo con nombres de los pokemones de tipo fuego (Type 1: Fire) que tienen un valor de ataque (Attack) mayor al de defensa (Defense).  \n",
    "\n",
    "**URL:** https://drive.google.com/file/d/1cUtcK-jaWQlhigVhnipmZaXLFOgGvh8-/view?usp=sharing"
   ]
  },
  {
   "cell_type": "code",
   "execution_count": 27,
   "id": "ced69cb2",
   "metadata": {
    "scrolled": true
   },
   "outputs": [],
   "source": [
    "#Solución prppuesta por tu compañero/a\n",
    "import csv\n",
    "import os \n",
    "\n",
    "ruta_archivos = \".\"  #en mi compu la unica manera que funciona este metodo es haciendolo asi por la estructura de archivos que tiene\n",
    "ruta_completa = os.path.join(os.getcwd(), ruta_archivos)\n",
    "arPokemon = os.path.join(ruta_completa, \"Pokemon.csv\")\n",
    "arTipoFuego = os.path.join(ruta_completa, \"pokeTipoFuego.csv\")\n",
    "\n",
    "\n",
    "with open(arPokemon, encoding='utf-8') as data_set:\n",
    " reader = csv.reader(data_set, delimiter=',')\n",
    " next(reader) #omito el encabezado\n",
    " with open(arTipoFuego, 'w') as salida:\n",
    "  writer = csv.writer(salida)\n",
    "  writer.writerows(filter(lambda type: type[3] == 'Fire', reader))  #me quedo con todos los de tipo fuego\n",
    "  writer.writerows(filter(lambda value: value[7] > value[8], reader))  #me quedo con los que tienen mayor ataque que defensa\n",
    "\n"
   ]
  },
  {
   "cell_type": "markdown",
   "id": "1eae6299",
   "metadata": {},
   "source": [
    "## Parte II "
   ]
  },
  {
   "cell_type": "markdown",
   "id": "4e9717da",
   "metadata": {},
   "source": [
    "### Calificá de acuerdo a las siguientes pautas:"
   ]
  },
  {
   "cell_type": "code",
   "execution_count": 1,
   "id": "2762a6c2",
   "metadata": {
    "scrolled": true
   },
   "outputs": [],
   "source": [
    "# Puntos acumulados del trabajo de mi conpañero/a\n",
    "puntos_parte_I = 0"
   ]
  },
  {
   "cell_type": "markdown",
   "id": "fb152d91",
   "metadata": {},
   "source": [
    "1.- **¿El algoritmo para el procesamiento de datos es correcto?:** +5 puntos\n",
    "\n",
    "- Suma 5 puntos si, inpendientemente si define una función o guarda los datos en un archivo como lo pide el enunciado.\n"
   ]
  },
  {
   "cell_type": "code",
   "execution_count": 2,
   "id": "00a9cdca",
   "metadata": {
    "scrolled": true
   },
   "outputs": [],
   "source": [
    "# puntos a sumar de esta consigna:\n",
    "puntos_parte_I += 0"
   ]
  },
  {
   "cell_type": "markdown",
   "id": "43ba367c",
   "metadata": {},
   "source": [
    "2.-**¿Define la función o genera el archivo de acuerdo a lo pedido??**: +10 puntos\n",
    "\n",
    "- Suma 5 puntos: si lo hace pero presenta algún error.\n",
    "\n",
    "- Suma 10 puntos: si está correcto"
   ]
  },
  {
   "cell_type": "code",
   "execution_count": 3,
   "id": "e3963e5d",
   "metadata": {
    "scrolled": true
   },
   "outputs": [],
   "source": [
    "# puntos a sumar de esta consigna:\n",
    "puntos_parte_I += 5"
   ]
  },
  {
   "cell_type": "markdown",
   "id": "e619052f",
   "metadata": {},
   "source": [
    "3.- **Sobre el acceso al archivo de datos:** -10  a 5 puntos\n",
    "\n",
    "- Descuento 5 puntos si lo abre utilizando una ruta absoluta (ejemplo: /home/archivo/archivo.csv)\n",
    "- Descuento 5 puntos si no se cierra el archivo.\n",
    "- Suma 5 puntos si usa adecuadamente la sentencia with."
   ]
  },
  {
   "cell_type": "code",
   "execution_count": 4,
   "id": "b55c9896",
   "metadata": {
    "scrolled": true
   },
   "outputs": [],
   "source": [
    "# puntos a sumar de esta consigna:\n",
    "puntos_parte_I += 5"
   ]
  },
  {
   "cell_type": "markdown",
   "id": "1670ee4b",
   "metadata": {},
   "source": [
    "4.- **Alguna otra falla o detalles que quieras marcar?**: - 5 puntos\n",
    "\n",
    "- Especificá cuál es el error que encontrás:\n",
    "  \n",
    "  El código no respeta la guía de estilos ya que presenta errores de identación y utiliza camel case para el nombre de algunas\n",
    "  variables en vez de snake case. \n",
    "  \n",
    "  A pesar de que el código no esté correctamente identado genera un archivo pero el mismo contiene información errónea \n",
    "  debido a que:\n",
    "  \n",
    "  > Se accede incorrectamente a la lista retornada por el reader. En vez de evaluar la columna \"Type 1\" se evalua la \n",
    "  columna \"Type 2\", y en vez de comparar los valores de las columnas \"Attack\" y \"Defense\" se comparan las columnas \n",
    "  \"Defense\" y \"Sp. Atk\". \n",
    "  \n",
    " > Otro problema surge del mal filtrado de los datos. Primero se escribe en el archivo todos los pokemones tipo fuego haciendo \n",
    "  un filter con la expresion lambda type: type[3] == 'Fire' del iterador reader, luego, se intenta hacer otro filter pero no\n",
    "  puede hacerse porque el iterador reader queda apuntado a fin. \n",
    "  \n",
    "  > Si el reader \"volviera\" a apuntar al comienzo no se quitarían del archivo pokemones, se escribirían en el archivo, además, \n",
    "  todos los pokemones (de cualquier tipo) en el que el análisis del string defense fuese mayor al del string sp. attack.\n",
    "  \n",
    "  \n",
    "  \n",
    "   La solución a estos problemas seria quitar los dos filter y reemplarlos por uno solo en el que se evaluen las dos\n",
    "   condiciones:\n",
    "  \n",
    "   writer.writerows (filter(lambda value: value[2] == \"Fire\" and int(value[6]) > int(value[7]), reader)) \n",
    "  \n",
    "  \n",
    "\n"
   ]
  },
  {
   "cell_type": "code",
   "execution_count": 5,
   "id": "1e985faa",
   "metadata": {
    "scrolled": true
   },
   "outputs": [],
   "source": [
    "# puntos a descontar de esta consigna:\n",
    "puntos_parte_I -= 3"
   ]
  },
  {
   "cell_type": "markdown",
   "id": "50b1c6fc",
   "metadata": {},
   "source": [
    "### Total de puntos de la actividad (parte I):"
   ]
  },
  {
   "cell_type": "code",
   "execution_count": 6,
   "id": "afbe1851",
   "metadata": {
    "scrolled": true
   },
   "outputs": [
    {
     "name": "stdout",
     "output_type": "stream",
     "text": [
      "Puntos actividad 1 - Parte I: 7\n"
     ]
    }
   ],
   "source": [
    "print(f\"Puntos actividad 1 - Parte I: {puntos_parte_I if puntos_parte_I >0 else 0}\")"
   ]
  },
  {
   "cell_type": "markdown",
   "id": "34aa40a5",
   "metadata": {},
   "source": [
    "### ¿Algo más que no fue considerado?"
   ]
  },
  {
   "cell_type": "markdown",
   "id": "1e1f3415",
   "metadata": {},
   "source": [
    "--- Dejá acá tus comentarios ---"
   ]
  },
  {
   "cell_type": "markdown",
   "id": "dc26afe2",
   "metadata": {},
   "source": [
    "## Parte II - Total 40 puntos"
   ]
  },
  {
   "cell_type": "code",
   "execution_count": 7,
   "id": "a397db33",
   "metadata": {
    "scrolled": true
   },
   "outputs": [],
   "source": [
    "# Puntos acumulados de mi parte II- A COMPLETAR POR LA CATEDRA\n",
    "puntos_parte_II = 0"
   ]
  },
  {
   "cell_type": "markdown",
   "id": "93b1dce8",
   "metadata": {},
   "source": [
    "### Corrección de la parte I de mi compañero/a: 10 puntos\n",
    "\n",
    "- Suma 10 puntos si la evaluación realizada es correcta.\n",
    "- Suma 5 puntos si la sección de arhivos está mal evaluada pero el resto es correcta.\n",
    "- Suma 5 puntos si la sección está bien evalauda pero el resto no. "
   ]
  },
  {
   "cell_type": "code",
   "execution_count": 8,
   "id": "8ebab756",
   "metadata": {
    "scrolled": true
   },
   "outputs": [],
   "source": [
    "# Sumo puntos de la sección - A COMPLETAR POR LA CATEDRA\n",
    "puntos_parte_II += 10\n",
    "\n",
    "#FALTÓ DECIR QUE NO CONVIERTE A ENTERO LOS CAMPOS ANTES DE COMPARAR. ESO PUEDE DAR\n",
    "#ERRORES DADO QUE POR EJEMPLO \"110\" < \"80\" da True"
   ]
  },
  {
   "cell_type": "markdown",
   "id": "b6836a8f",
   "metadata": {},
   "source": [
    "### Análisis de la  solución propuesta por mi compañero/a: 10 puntos"
   ]
  },
  {
   "cell_type": "markdown",
   "id": "3631026c",
   "metadata": {},
   "source": [
    "- **¿Qué estructuras de datos usa para recorrer los datos ingresados desde el archivo?** 3 puntos.\n",
    "\n",
    "     Se recorrer el archivo en la función filter con el iterador generado en el llamado de la función cvs.reader ().\n",
    "     \n",
    "\n",
    "- **¿Usa expresiones lambda, funciones map, filter, reduce lu otra similar? ¿Están correctamente definidas?** 2 puntos.\n",
    "\n",
    "    Se utilizan funciones filter con expresiones lambda y estan correctamente definidas. \n",
    "    \n",
    "\n",
    "- **Recorre el archivo más de lo necesario para resolver el ejercicio? Justificar!!** 5 puntos si justifica.\n",
    "    \n",
    "    Sí. Pero no. Se intenta recorrer dos veces el archivo, la primera haciendo un filter del tipo y la segunda haciendo otro     filter comparando valores. La primera se hace efectiva pero la segunda no, ya que el iterador reader queda apuntando al \n",
    "    fin de archivo. \n",
    "    \n"
   ]
  },
  {
   "cell_type": "code",
   "execution_count": 9,
   "id": "d63dc7e9",
   "metadata": {
    "scrolled": true
   },
   "outputs": [],
   "source": [
    "# Sumo puntos de la sección - A COMPLETAR POR LA CATEDRA\n",
    "puntos_parte_II += 10"
   ]
  },
  {
   "cell_type": "markdown",
   "id": "29fdc855",
   "metadata": {},
   "source": [
    "### Escribí una solución alternativa a la planteada por tu compañero/a: 20 puntos\n",
    "Esta solución será evaluada de acuerdo a las mismas pautas establecidas en este cuaderno."
   ]
  },
  {
   "cell_type": "code",
   "execution_count": 34,
   "id": "9a1bc0dc",
   "metadata": {
    "scrolled": true
   },
   "outputs": [],
   "source": [
    "# Solución alternativa\n",
    "import csv\n",
    "\n",
    "arch_pokemones = open (\"Pokemon.csv\", \"r\", encoding=\"UTF-8\")\n",
    "arch_pokemones_fuego = open (\"PokemonesTipoFuego0\", \"w\")\n",
    "\n",
    "\n",
    "def es_valido (linea):\n",
    "    return (linea[\"Type 1\"] == \"Fire\" and int(linea[\"Attack\"]) > int(linea[\"Defense\"]))\n",
    "\n",
    "\n",
    "info_pokemones = csv.DictReader (arch_pokemones, delimiter=',')\n",
    "\n",
    "for linea in info_pokemones:\n",
    "    if (es_valido (linea)):\n",
    "        arch_pokemones_fuego.write (linea [\"Name\"] + \"\\n\")\n",
    "\n",
    "arch_pokemones.close ()\n",
    "arch_pokemones_fuego.close()\n"
   ]
  },
  {
   "cell_type": "code",
   "execution_count": 10,
   "id": "b61dae7c",
   "metadata": {
    "scrolled": true
   },
   "outputs": [],
   "source": [
    "# Sumo puntos de la sección - A COMPLETAR POR LA CATEDRA\n",
    "puntos_parte_II += 20"
   ]
  },
  {
   "cell_type": "markdown",
   "id": "b0ba1701",
   "metadata": {},
   "source": [
    "### Total puntos de la actividad"
   ]
  },
  {
   "cell_type": "code",
   "execution_count": 11,
   "id": "8248b652",
   "metadata": {
    "scrolled": true
   },
   "outputs": [
    {
     "name": "stdout",
     "output_type": "stream",
     "text": [
      "Puntos actividad 1 - Parte II: 40\n"
     ]
    }
   ],
   "source": [
    "print(f\"Puntos actividad 1 - Parte II: {puntos_parte_II if puntos_parte_II >0 else 0}\")"
   ]
  },
  {
   "cell_type": "code",
   "execution_count": null,
   "id": "adolescent-microphone",
   "metadata": {},
   "outputs": [],
   "source": []
  }
 ],
 "metadata": {
  "kernelspec": {
   "display_name": "Python 3",
   "language": "python",
   "name": "python3"
  },
  "language_info": {
   "codemirror_mode": {
    "name": "ipython",
    "version": 3
   },
   "file_extension": ".py",
   "mimetype": "text/x-python",
   "name": "python",
   "nbconvert_exporter": "python",
   "pygments_lexer": "ipython3",
   "version": "3.8.0"
  }
 },
 "nbformat": 4,
 "nbformat_minor": 5
}
