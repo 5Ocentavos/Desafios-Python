{
 "cells": [
  {
   "cell_type": "markdown",
   "id": "b015a19f",
   "metadata": {},
   "source": [
    "# Actividad 1 por Python plus\n"
   ]
  },
  {
   "cell_type": "markdown",
   "id": "b0d0ad1d",
   "metadata": {},
   "source": [
    "## Parte I: resolvé el siguiente desafío:"
   ]
  },
  {
   "cell_type": "markdown",
   "id": "09be642c",
   "metadata": {},
   "source": [
    "EJERCICIO 13: dado el archivo denominado [TOTAL_nuevo.csv](https://archivos.linti.unlp.edu.ar/index.php/s/7zTP1JtN2KKTqYu) que contiene la actividad realizada en las clases  de la materia a través de catedras.linti, se desea imprimir los tres usuarios con mayor actividad en el curso. "
   ]
  },
  {
   "cell_type": "code",
   "execution_count": 30,
   "id": "5021bb7c",
   "metadata": {},
   "outputs": [
    {
     "name": "stdout",
     "output_type": "stream",
     "text": [
      "[('Jynx', 1750), ('Zubat', 1599), ('Furret', 1214)]\n"
     ]
    }
   ],
   "source": [
    "#Solución\n",
    "import csv\n",
    "from collections import Counter\n",
    "\n",
    "archivo_actividades = open ('TOTAL_nuevo.csv', 'r', encoding = 'UTF-8')\n",
    "\n",
    "actividades = csv.DictReader (archivo_actividades, delimiter = ',')\n",
    "encabezado = next (actividades)\n",
    "\n",
    "cantidad_actividades = map (lambda linea: linea ['Nombre completo del usuario'], actividades)\n",
    "cantidad_actividades = filter (lambda nombre: nombre != 'EXTERNO', cantidad_actividades)\n",
    "\n",
    "\n",
    "print (Counter(cantidad_actividades).most_common (3))\n",
    "\n",
    "\n",
    "archivo_actividades.close ()"
   ]
  },
  {
   "cell_type": "code",
   "execution_count": null,
   "id": "ab166f38",
   "metadata": {},
   "outputs": [],
   "source": []
  }
 ],
 "metadata": {
  "kernelspec": {
   "display_name": "Python 3 (ipykernel)",
   "language": "python",
   "name": "python3"
  },
  "language_info": {
   "codemirror_mode": {
    "name": "ipython",
    "version": 3
   },
   "file_extension": ".py",
   "mimetype": "text/x-python",
   "name": "python",
   "nbconvert_exporter": "python",
   "pygments_lexer": "ipython3",
   "version": "3.10.0"
  }
 },
 "nbformat": 4,
 "nbformat_minor": 5
}
